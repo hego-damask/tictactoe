{
 "cells": [
  {
   "cell_type": "code",
   "execution_count": 1,
   "id": "822a1eb6",
   "metadata": {},
   "outputs": [],
   "source": [
    "from newgame import Tictactoe\n",
    "from copy import deepcopy\n",
    "import math"
   ]
  },
  {
   "cell_type": "code",
   "execution_count": 2,
   "id": "dfd7f9e2",
   "metadata": {
    "scrolled": true
   },
   "outputs": [
    {
     "name": "stdout",
     "output_type": "stream",
     "text": [
      "0|1|2\n",
      "3|4|5\n",
      "6|7|8\n",
      "\n"
     ]
    }
   ],
   "source": [
    "Tictactoe().reference()"
   ]
  },
  {
   "cell_type": "code",
   "execution_count": 3,
   "id": "12d5065d",
   "metadata": {},
   "outputs": [],
   "source": [
    "board = Tictactoe()"
   ]
  },
  {
   "cell_type": "code",
   "execution_count": 4,
   "id": "0c3559e2",
   "metadata": {},
   "outputs": [],
   "source": [
    "player = -1\n",
    "def minimax(board, depth, is_maximizing_player):\n",
    "    result = board.check()\n",
    "    if result == player:\n",
    "        return 1\n",
    "    elif result == -player:\n",
    "        return -1\n",
    "    elif result == 0:\n",
    "        return 0\n",
    "    \n",
    "    if is_maximizing_player:\n",
    "        best_score = -math.inf\n",
    "        for move in board.available_moves():\n",
    "            new_board = deepcopy(board)\n",
    "            new_board.move(move, True)\n",
    "            score = minimax(new_board, depth + 1, False)\n",
    "            best_score = max(best_score, score)\n",
    "        return best_score\n",
    "    else:\n",
    "        best_score = math.inf\n",
    "        for move in board.available_moves():\n",
    "            new_board = deepcopy(board)\n",
    "            new_board.move(move, False)\n",
    "            score = minimax(new_board, depth + 1, True)\n",
    "            best_score = min(best_score, score)\n",
    "        return best_score\n",
    "def get_best_move(board):\n",
    "    best_move = None\n",
    "    best_score = -math.inf\n",
    "    for move in board.available_moves():\n",
    "        new_board = deepcopy(board)\n",
    "        new_board.move(move, True)\n",
    "        score = minimax(new_board, 0, False)\n",
    "        if score > best_score:\n",
    "            best_score = score\n",
    "            best_move = move\n",
    "    return best_move\n",
    "\n",
    "bestmove = get_best_move(board)"
   ]
  },
  {
   "cell_type": "code",
   "execution_count": 5,
   "id": "be77898d",
   "metadata": {},
   "outputs": [
    {
     "data": {
      "text/plain": [
       "0"
      ]
     },
     "execution_count": 5,
     "metadata": {},
     "output_type": "execute_result"
    }
   ],
   "source": [
    "bestmove"
   ]
  },
  {
   "cell_type": "code",
   "execution_count": 8,
   "id": "078565b8",
   "metadata": {},
   "outputs": [],
   "source": [
    "board.move(bestmove, player)"
   ]
  },
  {
   "cell_type": "code",
   "execution_count": 12,
   "id": "3784ee61",
   "metadata": {},
   "outputs": [],
   "source": [
    "board.move(4, 0)"
   ]
  },
  {
   "cell_type": "code",
   "execution_count": 13,
   "id": "70c64cfd",
   "metadata": {},
   "outputs": [
    {
     "name": "stdout",
     "output_type": "stream",
     "text": [
      "X| | \n",
      " |O| \n",
      " | | \n",
      "\n"
     ]
    }
   ],
   "source": [
    "print(board)"
   ]
  },
  {
   "cell_type": "code",
   "execution_count": 14,
   "id": "7709119f",
   "metadata": {},
   "outputs": [],
   "source": [
    "bestmove = get_best_move(board)"
   ]
  },
  {
   "cell_type": "code",
   "execution_count": 15,
   "id": "6227422b",
   "metadata": {},
   "outputs": [
    {
     "data": {
      "text/plain": [
       "1"
      ]
     },
     "execution_count": 15,
     "metadata": {},
     "output_type": "execute_result"
    }
   ],
   "source": [
    "bestmove"
   ]
  },
  {
   "cell_type": "code",
   "execution_count": 16,
   "id": "3da2e562",
   "metadata": {},
   "outputs": [],
   "source": [
    "board.move(bestmove, player)"
   ]
  },
  {
   "cell_type": "code",
   "execution_count": 17,
   "id": "59fd51d9",
   "metadata": {},
   "outputs": [
    {
     "name": "stdout",
     "output_type": "stream",
     "text": [
      "X|X| \n",
      " |O| \n",
      " | | \n",
      "\n"
     ]
    }
   ],
   "source": [
    "print(board)"
   ]
  },
  {
   "cell_type": "code",
   "execution_count": 18,
   "id": "fd668c35",
   "metadata": {},
   "outputs": [],
   "source": [
    "board.move(2, 0)"
   ]
  },
  {
   "cell_type": "code",
   "execution_count": 19,
   "id": "3128e6a0",
   "metadata": {},
   "outputs": [
    {
     "name": "stdout",
     "output_type": "stream",
     "text": [
      "X|X|O\n",
      " |O| \n",
      " | | \n",
      "\n"
     ]
    }
   ],
   "source": [
    "print(board)"
   ]
  },
  {
   "cell_type": "code",
   "execution_count": 20,
   "id": "3f52034d",
   "metadata": {},
   "outputs": [
    {
     "name": "stdout",
     "output_type": "stream",
     "text": [
      "X|X|O\n",
      " |O| \n",
      "X| | \n",
      "\n"
     ]
    }
   ],
   "source": [
    "bestmove = get_best_move(board)\n",
    "board.move(bestmove, player)\n",
    "print(board)"
   ]
  },
  {
   "cell_type": "code",
   "execution_count": 21,
   "id": "364a4931",
   "metadata": {},
   "outputs": [
    {
     "name": "stdout",
     "output_type": "stream",
     "text": [
      "X|X|O\n",
      " |O|O\n",
      "X| | \n",
      "\n"
     ]
    }
   ],
   "source": [
    "board.move(5, 0)\n",
    "print(board)"
   ]
  },
  {
   "cell_type": "code",
   "execution_count": 22,
   "id": "29276d47",
   "metadata": {},
   "outputs": [
    {
     "name": "stdout",
     "output_type": "stream",
     "text": [
      "X|X|O\n",
      "X|O|O\n",
      "X| | \n",
      "\n"
     ]
    }
   ],
   "source": [
    "bestmove = get_best_move(board)\n",
    "board.move(bestmove, player)\n",
    "print(board)"
   ]
  },
  {
   "cell_type": "code",
   "execution_count": null,
   "id": "8dd482eb",
   "metadata": {},
   "outputs": [],
   "source": []
  }
 ],
 "metadata": {
  "kernelspec": {
   "display_name": "Python 3 (ipykernel)",
   "language": "python",
   "name": "python3"
  },
  "language_info": {
   "codemirror_mode": {
    "name": "ipython",
    "version": 3
   },
   "file_extension": ".py",
   "mimetype": "text/x-python",
   "name": "python",
   "nbconvert_exporter": "python",
   "pygments_lexer": "ipython3",
   "version": "3.10.12"
  }
 },
 "nbformat": 4,
 "nbformat_minor": 5
}
